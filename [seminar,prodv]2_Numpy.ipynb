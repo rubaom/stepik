{
  "nbformat": 4,
  "nbformat_minor": 0,
  "metadata": {
    "colab": {
      "name": "[seminar,prodv]2_Numpy.ipynb",
      "provenance": [],
      "collapsed_sections": [],
      "include_colab_link": true
    },
    "hide_input": false,
    "kernelspec": {
      "display_name": "Python 3",
      "language": "python",
      "name": "python3"
    },
    "language_info": {
      "codemirror_mode": {
        "name": "ipython",
        "version": 3
      },
      "file_extension": ".py",
      "mimetype": "text/x-python",
      "name": "python",
      "nbconvert_exporter": "python",
      "pygments_lexer": "ipython3",
      "version": "3.6.8"
    },
    "varInspector": {
      "cols": {
        "lenName": 16,
        "lenType": 16,
        "lenVar": 40
      },
      "kernels_config": {
        "python": {
          "delete_cmd_postfix": "",
          "delete_cmd_prefix": "del ",
          "library": "var_list.py",
          "varRefreshCmd": "print(var_dic_list())"
        },
        "r": {
          "delete_cmd_postfix": ") ",
          "delete_cmd_prefix": "rm(",
          "library": "var_list.r",
          "varRefreshCmd": "cat(var_dic_list()) "
        }
      },
      "types_to_exclude": [
        "module",
        "function",
        "builtin_function_or_method",
        "instance",
        "_Feature"
      ],
      "window_display": false
    }
  },
  "cells": [
    {
      "cell_type": "markdown",
      "metadata": {
        "id": "view-in-github",
        "colab_type": "text"
      },
      "source": [
        "<a href=\"https://colab.research.google.com/github/rubaom/stepik/blob/master/%5Bseminar%2Cprodv%5D2_Numpy.ipynb\" target=\"_parent\"><img src=\"https://colab.research.google.com/assets/colab-badge.svg\" alt=\"Open In Colab\"/></a>"
      ]
    },
    {
      "cell_type": "markdown",
      "metadata": {
        "colab_type": "text",
        "id": "LYCbBYAoK01P"
      },
      "source": [
        "<p style=\"align: center;\"><img align=center src=\"https://s8.hostingkartinok.com/uploads/images/2018/08/308b49fcfbc619d629fe4604bceb67ac.jpg\" width=500 height=450/></p>\n",
        "\n",
        "<h3 style=\"text-align: center;\"><b>Физтех-Школа Прикладной математики и информатики (ФПМИ) МФТИ</b></h3>\n"
      ]
    },
    {
      "cell_type": "markdown",
      "metadata": {
        "colab_type": "text",
        "id": "WCndMFM25mhM"
      },
      "source": [
        "---"
      ]
    },
    {
      "cell_type": "markdown",
      "metadata": {
        "colab_type": "text",
        "id": "Jv3wM2EJK01Q"
      },
      "source": [
        "<h2 style=\"text-align: center;\"><b>Python. Занятие 2: Numpy, Scipy</b></h2>"
      ]
    },
    {
      "cell_type": "markdown",
      "metadata": {
        "colab_type": "text",
        "id": "ZFb530GdK01R"
      },
      "source": [
        "<img align=left src=\"https://cdn.fedoramagazine.org/wp-content/uploads/2015/11/Python_logo.png\" width=400 height=250/>\n",
        "\n",
        "<img src=\"https://steemit-production-imageproxy-thumbnail.s3.amazonaws.com/DQmPzrCtkniAypHNkuGgEdqcmzzCxD6xCYKD7uFNDyZQLTv_1680x8400\" width=400 height=200 />"
      ]
    },
    {
      "cell_type": "markdown",
      "metadata": {
        "colab_type": "text",
        "id": "6FcX8uOqK01S"
      },
      "source": [
        "#### При подготовке ноутбука использовался сайт: http://www.inp.nsk.su/~grozin/python/"
      ]
    },
    {
      "cell_type": "markdown",
      "metadata": {
        "colab_type": "text",
        "id": "GB_0NqPUK01T"
      },
      "source": [
        "---"
      ]
    },
    {
      "cell_type": "markdown",
      "metadata": {
        "colab_type": "text",
        "id": "kBGnvjStK01T"
      },
      "source": [
        "## Библиотека NumPy"
      ]
    },
    {
      "cell_type": "markdown",
      "metadata": {
        "colab_type": "text",
        "id": "Iug83l7wK01U"
      },
      "source": [
        "Пакет **`NumPy`** предоставляет $n$-мерные однородные массивы (все элементы одного типа); в них нельзя вставить или удалить элемент в произвольном месте. В `numpy` реализовано много операций над массивами в целом. Если задачу можно решить, произведя некоторую последовательность операций над массивами, то это будет столь же эффективно, как в `C` или `matlab`, поскольку функции этой библиотеки реализованы на C, и мы просто вызываем из из питона."
      ]
    },
    {
      "cell_type": "code",
      "metadata": {
        "colab_type": "code",
        "id": "zB8-qzXEK01V",
        "colab": {}
      },
      "source": [
        "# стандартное название для импорта numpy - np\n",
        "import numpy as np\n",
        "import math"
      ],
      "execution_count": 0,
      "outputs": []
    },
    {
      "cell_type": "code",
      "metadata": {
        "colab_type": "code",
        "id": "2_IOYl5-K01Y",
        "colab": {}
      },
      "source": [
        "# from numpy import *\n",
        "# как и влюбом другом языке и библиотке, так делать нельзя. Вы очень быстро запутаетесь в функциях из numpy \n",
        "# и запутаете всех, кто читает ваш код"
      ],
      "execution_count": 0,
      "outputs": []
    },
    {
      "cell_type": "markdown",
      "metadata": {
        "colab_type": "text",
        "id": "f6y8_ITBK01Y"
      },
      "source": [
        "## Векторы и матрицы в numpy"
      ]
    },
    {
      "cell_type": "markdown",
      "metadata": {
        "colab_type": "text",
        "id": "3k5eaQgGHLJD"
      },
      "source": [
        "* **Одномерные массивы**. Я предполагаю, что почти все знают про обычные массивы и про операции над ними. Они выглядят следующим образом:"
      ]
    },
    {
      "cell_type": "code",
      "metadata": {
        "colab_type": "code",
        "id": "A8y4lFcdHLJD",
        "colab": {}
      },
      "source": [
        "x = [3, 4, 1]\n",
        "print(x)"
      ],
      "execution_count": 0,
      "outputs": []
    },
    {
      "cell_type": "markdown",
      "metadata": {
        "colab_type": "text",
        "id": "dHYKof4KK01b"
      },
      "source": [
        "Давайте преобразуем наш массив в __numpy__ массив:"
      ]
    },
    {
      "cell_type": "code",
      "metadata": {
        "colab_type": "code",
        "id": "rffXuWJaK01c",
        "colab": {}
      },
      "source": [
        "a = np.array(x)\n",
        "print(a, type(a))"
      ],
      "execution_count": 0,
      "outputs": []
    },
    {
      "cell_type": "markdown",
      "metadata": {
        "colab_type": "text",
        "id": "iLQtJmH0K01g"
      },
      "source": [
        "`print` печатает массивы в удобной форме."
      ]
    },
    {
      "cell_type": "code",
      "metadata": {
        "colab_type": "code",
        "id": "QGFfGuPtK01h",
        "colab": {}
      },
      "source": [
        "print(a/89)"
      ],
      "execution_count": 0,
      "outputs": []
    },
    {
      "cell_type": "markdown",
      "metadata": {
        "id": "Kxxjms2DaSBX",
        "colab_type": "text"
      },
      "source": [
        "* **Многомерные массивы**"
      ]
    },
    {
      "cell_type": "code",
      "metadata": {
        "colab_type": "code",
        "id": "9J22jldfaSBZ",
        "colab": {}
      },
      "source": [
        "# Простая матричка\n",
        "x = [[3, 4, 1],\n",
        "     [1, 2, 3]]\n",
        "print(x)"
      ],
      "execution_count": 0,
      "outputs": []
    },
    {
      "cell_type": "code",
      "metadata": {
        "colab_type": "code",
        "id": "wvbw-zhdaSBe",
        "colab": {}
      },
      "source": [
        "a = np.array(x)\n",
        "print(a)"
      ],
      "execution_count": 0,
      "outputs": []
    },
    {
      "cell_type": "code",
      "metadata": {
        "colab_type": "code",
        "scrolled": true,
        "id": "GPeALYOLaSBi",
        "colab": {}
      },
      "source": [
        "# Реально многомерный массив\n",
        "x = [\n",
        "        [ [1, 2, 3], [4, 5, 6]],\n",
        "        [ [7, 8, 9], [10, 11, 12]] \n",
        "    ]\n",
        "print(x)"
      ],
      "execution_count": 0,
      "outputs": []
    },
    {
      "cell_type": "code",
      "metadata": {
        "colab_type": "code",
        "id": "-SeTuAAjaSBl",
        "colab": {}
      },
      "source": [
        "a = np.array(x)\n",
        "print(a)"
      ],
      "execution_count": 0,
      "outputs": []
    },
    {
      "cell_type": "markdown",
      "metadata": {
        "id": "tv2xp3kjaSBo",
        "colab_type": "text"
      },
      "source": [
        "Как мы видим, для numpy нет никакой разницы, сколько измерений у матрицы, все они представляются numpy.ndarray"
      ]
    },
    {
      "cell_type": "markdown",
      "metadata": {
        "id": "Tjm58y2OaSBq",
        "colab_type": "text"
      },
      "source": [
        "# Типы данных в numpy"
      ]
    },
    {
      "cell_type": "markdown",
      "metadata": {
        "colab_type": "text",
        "id": "6tBmi8DrHLJR"
      },
      "source": [
        "`numpy` предоставляет несколько типов для целых (`int16`, `int32`, `int64`) и чисел с плавающей точкой (`float32`, `float64`)."
      ]
    },
    {
      "cell_type": "code",
      "metadata": {
        "colab_type": "code",
        "id": "XROlITuVHLJR",
        "colab": {}
      },
      "source": [
        "a.dtype, a.dtype.name, a.itemsize"
      ],
      "execution_count": 0,
      "outputs": []
    },
    {
      "cell_type": "code",
      "metadata": {
        "colab_type": "code",
        "id": "bYMWEBdmHLJV",
        "colab": {}
      },
      "source": [
        "b = np.array([0., 2, 1])\n",
        "b.dtype"
      ],
      "execution_count": 0,
      "outputs": []
    },
    {
      "cell_type": "markdown",
      "metadata": {
        "colab_type": "text",
        "id": "4gsvp2fjHLJY"
      },
      "source": [
        "Точно такой же массив."
      ]
    },
    {
      "cell_type": "code",
      "metadata": {
        "colab_type": "code",
        "id": "ZrJbtW3OHLJY",
        "colab": {}
      },
      "source": [
        "c = np.array([0.1, 2, 1], dtype=np.float64)\n",
        "print(c)"
      ],
      "execution_count": 0,
      "outputs": []
    },
    {
      "cell_type": "markdown",
      "metadata": {
        "colab_type": "text",
        "id": "-U7vEzu-HLJe"
      },
      "source": [
        "Преобразование данных"
      ]
    },
    {
      "cell_type": "code",
      "metadata": {
        "colab_type": "code",
        "id": "51ZSoCJJHLJg",
        "colab": {}
      },
      "source": [
        "print(c.dtype)\n",
        "print(c.astype(int))\n",
        "print(c.astype(str))"
      ],
      "execution_count": 0,
      "outputs": []
    },
    {
      "cell_type": "markdown",
      "metadata": {
        "colab_type": "text",
        "id": "AhMuoHJ3HLJm"
      },
      "source": [
        "Так для чего нам нужны эти массивы, почему нам может не хватать возможностей обычных массивов?"
      ]
    },
    {
      "cell_type": "markdown",
      "metadata": {
        "colab_type": "text",
        "id": "49Hkkuc0K01k"
      },
      "source": [
        "# Методы массивов в numpy\n",
        "Класс `ndarray` имеет много методов."
      ]
    },
    {
      "cell_type": "code",
      "metadata": {
        "colab_type": "code",
        "id": "j7W2JXyH9Yy9",
        "colab": {}
      },
      "source": [
        "print(dir(a))"
      ],
      "execution_count": 0,
      "outputs": []
    },
    {
      "cell_type": "markdown",
      "metadata": {
        "id": "fkxB2f57aSCC",
        "colab_type": "text"
      },
      "source": [
        "## Одномерные массивы\n",
        "* числовые операции и нахождение статистик"
      ]
    },
    {
      "cell_type": "code",
      "metadata": {
        "id": "t43hJQPyaSCD",
        "colab_type": "code",
        "colab": {}
      },
      "source": [
        "x = [1, 2, 0, 3, 4]\n",
        "a = np.array(x)"
      ],
      "execution_count": 0,
      "outputs": []
    },
    {
      "cell_type": "code",
      "metadata": {
        "colab_type": "code",
        "id": "SLqJ9iQu8h9J",
        "scrolled": true,
        "colab": {}
      },
      "source": [
        "# У массивов можно легко и быстро посчитать разные статистики\n",
        "a.std(), a.sum(), a.prod(), a.min(), a.max(), a.mean()"
      ],
      "execution_count": 0,
      "outputs": []
    },
    {
      "cell_type": "code",
      "metadata": {
        "id": "VRnGSSDXaSCK",
        "colab_type": "code",
        "colab": {}
      },
      "source": [
        "# массивы можно умножать и складывать со скалярами и другими массивами, операции проходят поэлементно\n",
        "a * 2, a / 2, a + 1, a - 1"
      ],
      "execution_count": 0,
      "outputs": []
    },
    {
      "cell_type": "code",
      "metadata": {
        "id": "Hm-9q9XGaSCN",
        "colab_type": "code",
        "colab": {}
      },
      "source": [
        "a + a, a * a, a / a, a ** 2"
      ],
      "execution_count": 0,
      "outputs": []
    },
    {
      "cell_type": "code",
      "metadata": {
        "colab_type": "code",
        "id": "29ugcejkHLJs",
        "colab": {}
      },
      "source": [
        "# (с листами из питона так не получится, для них сложение означает конкатенацию)\n",
        "print(type(x))\n",
        "print(x)\n",
        "print(x + x)\n",
        "print(x * 2)\n",
        "print(x ** 2)"
      ],
      "execution_count": 0,
      "outputs": []
    },
    {
      "cell_type": "markdown",
      "metadata": {
        "id": "8Fg3G3MgaSCU",
        "colab_type": "text"
      },
      "source": [
        "* Поэлементные операции"
      ]
    },
    {
      "cell_type": "code",
      "metadata": {
        "id": "FCXExpERaSCV",
        "colab_type": "code",
        "colab": {}
      },
      "source": [
        "# В numpy есть почти функции, которых хватает для построения почти любого расчета\n",
        "np.exp(a), np.sin(a), np.cos(a), np.round(a) # и много других, лучше просто загуглить, когда вам что-то понадобится"
      ],
      "execution_count": 0,
      "outputs": []
    },
    {
      "cell_type": "markdown",
      "metadata": {
        "id": "9-yZuXHFaSCY",
        "colab_type": "text"
      },
      "source": [
        "* сортировка/добавление/удаление элементов массива"
      ]
    },
    {
      "cell_type": "code",
      "metadata": {
        "colab_type": "code",
        "id": "FZ442SUWHLLF",
        "colab": {}
      },
      "source": [
        "b = np.arange(9, -1,-1)\n",
        "print(f'sorted b {np.sort(b)}')\n",
        "print(f'original b {b}')\n",
        "b.sort()\n",
        "print(f'original b after inplace sort {b}')"
      ],
      "execution_count": 0,
      "outputs": []
    },
    {
      "cell_type": "markdown",
      "metadata": {
        "colab_type": "text",
        "id": "JtLygbXuHLLH"
      },
      "source": [
        "Функции delete, insert и append не меняют массив на месте, а возвращают новый массив, в котором удалены, вставлены в середину или добавлены в конец какие-то элементы.\n"
      ]
    },
    {
      "cell_type": "code",
      "metadata": {
        "colab_type": "code",
        "id": "FR2hIiO6HLLH",
        "colab": {}
      },
      "source": [
        "a = np.arange(10, -1, -1)\n",
        "a = np.delete(a, [5, 7])\n",
        "print(a)"
      ],
      "execution_count": 0,
      "outputs": []
    },
    {
      "cell_type": "code",
      "metadata": {
        "colab_type": "code",
        "id": "TXpfhNR4HLLJ",
        "colab": {}
      },
      "source": [
        "a = np.insert(a, [2, 3], [-100, -200])\n",
        "print(a)"
      ],
      "execution_count": 0,
      "outputs": []
    },
    {
      "cell_type": "code",
      "metadata": {
        "colab_type": "code",
        "id": "edUJplmjHLLM",
        "colab": {}
      },
      "source": [
        "a = np.append(a, [1, 2, 3])\n",
        "print(a)"
      ],
      "execution_count": 0,
      "outputs": []
    },
    {
      "cell_type": "markdown",
      "metadata": {
        "id": "9s-fpupQaSCl",
        "colab_type": "text"
      },
      "source": [
        "## Многомерные массивы\n",
        "\n",
        "В случае многомерных массивов работает все, что мы только что попробовали для одномерных, но появляются и новые возможности.\n",
        "\n",
        "* работа с shape массива\n",
        "\n",
        "У многомерны массивов есть понятие осей (их еще можно назвать измерениями). Так как одни и те же данные могут храниться в массивах разной формы, в numpy есть методы, чтобы эту форму менять"
      ]
    },
    {
      "cell_type": "markdown",
      "metadata": {
        "colab_type": "text",
        "id": "4nnvpsEIK01s"
      },
      "source": [
        "`ndarray.shape` — размеры массива, его форма. Это кортеж натуральных чисел, показывающий длину массива по каждой оси. Для матрицы из n строк и m столбов, shape будет (n,m). "
      ]
    },
    {
      "cell_type": "markdown",
      "metadata": {
        "colab_type": "text",
        "id": "aeRIBlpSK01s"
      },
      "source": [
        "В $n$-мерном случае возвращается кортеж размеров по каждой координате."
      ]
    },
    {
      "cell_type": "code",
      "metadata": {
        "id": "k65UpbDEaSCp",
        "colab_type": "code",
        "colab": {}
      },
      "source": [
        "x = [[1, 2, 3],\n",
        "     [4, 5, 6]]\n",
        "a = np.array(x)\n",
        "print('shape():', a.shape,'\\nndim():', a.ndim, '\\nsize():', a.size, '\\nlen():', len(a))"
      ],
      "execution_count": 0,
      "outputs": []
    },
    {
      "cell_type": "markdown",
      "metadata": {
        "colab_type": "text",
        "id": "Hq1rOe4FK018"
      },
      "source": [
        "**Вопрос:** \n",
        " >Как связаны элементы кортежа shape, ndim, size?"
      ]
    },
    {
      "cell_type": "markdown",
      "metadata": {
        "colab_type": "text",
        "id": "KQrw6IV-p-S1"
      },
      "source": [
        "**Ответ:**"
      ]
    },
    {
      "cell_type": "markdown",
      "metadata": {
        "colab_type": "text",
        "id": "tUA07amuo1jt"
      },
      "source": [
        "**Вопрос:**\n",
        ">Каковы значения shape, ndim, size, len для картинки RGB 160x100? \n",
        "\n",
        ">А для массива из 1000 таких картинок?"
      ]
    },
    {
      "cell_type": "markdown",
      "metadata": {
        "colab_type": "text",
        "id": "_LuF70JEK018"
      },
      "source": [
        "**Ответ:**"
      ]
    },
    {
      "cell_type": "markdown",
      "metadata": {
        "id": "F7WqCNImaSCx",
        "colab_type": "text"
      },
      "source": [
        "Для смены shape есть методы reshape, flatten, ravel"
      ]
    },
    {
      "cell_type": "code",
      "metadata": {
        "id": "Knm6SxbraSCy",
        "colab_type": "code",
        "colab": {}
      },
      "source": [
        "# reshape\n",
        "print(a.reshape(3, 2))\n",
        "# вместо одной из осей можно просто вставить -1, тогда numpy попытается сам понять, какое там должно быть число\n",
        "print(a.reshape(-1, 2))\n",
        "# если такое число не получится найти, то будет ошибка\n",
        "print(a.reshape(-1))"
      ],
      "execution_count": 0,
      "outputs": []
    },
    {
      "cell_type": "code",
      "metadata": {
        "id": "H9Ts_O-7aSC1",
        "colab_type": "code",
        "colab": {}
      },
      "source": [
        "# flatten и ravel очень похожи, они вытягивают матрицу любой размерности в строчку\n",
        "# Единственно отличие в том, что flatten возвращает копию массива, вытянутую в строчку\n",
        "# а ravel - просто view(т.е. не происходит реального копирования значений)\n",
        "# Пример снизу показывает это отличие\n",
        "flattened = a.flatten()\n",
        "flattened[0] = 1000\n",
        "print(a)\n",
        "raveled = a.ravel()\n",
        "raveled[0] = 1000\n",
        "print(a)"
      ],
      "execution_count": 0,
      "outputs": []
    },
    {
      "cell_type": "markdown",
      "metadata": {
        "id": "mZwb98wiaSC3",
        "colab_type": "text"
      },
      "source": [
        "* Подсчет статистик по осям"
      ]
    },
    {
      "cell_type": "code",
      "metadata": {
        "id": "J1Ue3z9FaSC4",
        "colab_type": "code",
        "colab": {}
      },
      "source": [
        "print(a)"
      ],
      "execution_count": 0,
      "outputs": []
    },
    {
      "cell_type": "code",
      "metadata": {
        "colab_type": "code",
        "scrolled": true,
        "id": "lMFOHDVTaSC6",
        "colab": {}
      },
      "source": [
        "# Если не написать axis, то статистика посчиатется по всем массиву\n",
        "# Если axis=1, то для трехмерной матрицы суммирование (например) будет идти по элементам с индексами (i, *, j)\n",
        "# Если axis=(1, 2), то для трехмерной матрицы суммирование (например) будет идти по элементам с индексами (i, *, *)\n",
        "a.std(axis=0), a.sum(axis=0), a.prod(axis=0), a.min(axis=0), a.max(axis=0), a.mean(axis=0)"
      ],
      "execution_count": 0,
      "outputs": []
    },
    {
      "cell_type": "code",
      "metadata": {
        "colab_type": "code",
        "scrolled": true,
        "id": "f8E9einlaSC8",
        "colab": {}
      },
      "source": [
        "# Посчитаем, итерируясь по 1 оси\n",
        "a.std(axis=1), a.sum(axis=1), a.prod(axis=1), a.min(axis=1), a.max(axis=1), a.mean(axis=1)"
      ],
      "execution_count": 0,
      "outputs": []
    },
    {
      "cell_type": "markdown",
      "metadata": {
        "id": "IBZg2BrkaSC-",
        "colab_type": "text"
      },
      "source": [
        "## Булевы массивы\n",
        "Булевы массивы не настолько особенны, чтобы выделять их в отдельную категорию, но у них есть несколько интересных свойств, которые нам помогут. Булевы массивы естественно возникают в нашей программе при сравнении каких-то двух массивов в numpy (==,>,>=,<,<=)."
      ]
    },
    {
      "cell_type": "code",
      "metadata": {
        "id": "tTYLjXS-aSC-",
        "colab_type": "code",
        "colab": {}
      },
      "source": [
        "a = np.array([1, 2, 3])\n",
        "b = np.array([1, 2, 0])\n",
        "\n",
        "a == b, a > b, a >= b, a < b, a <= b"
      ],
      "execution_count": 0,
      "outputs": []
    },
    {
      "cell_type": "markdown",
      "metadata": {
        "id": "zAIjHDPJaSDB",
        "colab_type": "text"
      },
      "source": [
        "Посмотрим, что мы можем делать с такими массивами"
      ]
    },
    {
      "cell_type": "code",
      "metadata": {
        "id": "NDJw37SAaSDC",
        "colab_type": "code",
        "colab": {}
      },
      "source": [
        "a = np.array([True, False, True])\n",
        "b = np.array([False, False, True])\n",
        "\n",
        "# Логические поэлементные операции\n",
        "print(f'a and b {a & b}')\n",
        "print(f'a or b {a | b}')\n",
        "print(f'not a {~a}')\n",
        "print(f'a xor b {a ^ b}')"
      ],
      "execution_count": 0,
      "outputs": []
    },
    {
      "cell_type": "code",
      "metadata": {
        "id": "6cSvHdOpaSDE",
        "colab_type": "code",
        "colab": {}
      },
      "source": [
        "# Логические операции над всеми элементами массива, в них тоже можно использовать параметр axis\n",
        "a.any(), a.all()"
      ],
      "execution_count": 0,
      "outputs": []
    },
    {
      "cell_type": "code",
      "metadata": {
        "id": "7XZ8pcHiaSDI",
        "colab_type": "code",
        "colab": {}
      },
      "source": [
        "# Если к булевому массиву применить функции, предназначенные только для чисел, \n",
        "# то перед применением все True сконвертируются в 1, а False в 0\n",
        "# Здесь также можно добавить параметр axis\n",
        "a.mean(), a.max(), a.sum(), a.std()"
      ],
      "execution_count": 0,
      "outputs": []
    },
    {
      "cell_type": "markdown",
      "metadata": {
        "id": "cak7YP_NaSDL",
        "colab_type": "text"
      },
      "source": [
        "**Задание на булевы массивы:**\n",
        "> Пусть у нас есть два одномерных массива y_pred - предсказанный нашей моделью класс, и y_true - настоящий класс. Посчитайте accuracy нашего классификатора на этих данных (долю случаев, в которых реальный класс совпал с предсказанием)"
      ]
    },
    {
      "cell_type": "code",
      "metadata": {
        "id": "K5g7mFm5aSDL",
        "colab_type": "code",
        "colab": {}
      },
      "source": [
        "y_pred = np.array([1, 2, 1, 2, 1, 1])\n",
        "y_true = np.array([1, 2, 1, 1, 1, 1])\n",
        "\n",
        "<ваш код здесь>"
      ],
      "execution_count": 0,
      "outputs": []
    },
    {
      "cell_type": "markdown",
      "metadata": {
        "id": "WUyvxPIXaSDO",
        "colab_type": "text"
      },
      "source": [
        "# Полезные функции из numpy"
      ]
    },
    {
      "cell_type": "markdown",
      "metadata": {
        "id": "jjNg7ndbaSDP",
        "colab_type": "text"
      },
      "source": [
        "Также в numpy есть много полезных методов для получения готовых массивов какого-то вида"
      ]
    },
    {
      "cell_type": "markdown",
      "metadata": {
        "colab_type": "text",
        "id": "-ihFsBq-HLJ3"
      },
      "source": [
        "* Функция **arange** подобна range. Аргументы могут быть с плавающей точкой. Следует избегать ситуаций, когда (конец−начало)/шаг - целое число, потому что в этом случае включение последнего элемента зависит от ошибок округления. Лучше, чтобы конец диапазона был где-то посредине шага."
      ]
    },
    {
      "cell_type": "code",
      "metadata": {
        "colab_type": "code",
        "id": "XyLV0bszHLJ3",
        "colab": {}
      },
      "source": [
        "# поиграемся с питоновским методом range\n",
        "print(list(range(8)))\n",
        "print(*range(0, 8))\n",
        "print(*[2,5])\n",
        "print(2,5)"
      ],
      "execution_count": 0,
      "outputs": []
    },
    {
      "cell_type": "code",
      "metadata": {
        "colab_type": "code",
        "id": "ajsJU8KyHLJ8",
        "colab": {}
      },
      "source": [
        "# в нем нельзя использовать не целый шаг\n",
        "print(*range(0, 8, 0.5))"
      ],
      "execution_count": 0,
      "outputs": []
    },
    {
      "cell_type": "code",
      "metadata": {
        "colab_type": "code",
        "id": "t8qoTrmZHLJ_",
        "colab": {}
      },
      "source": [
        "# перейдем к arange\n",
        "# здесь не целый шаг использовать уже можно\n",
        "print(type(np.arange(0, 8)))\n",
        "print(np.arange(0, -8, -0.5))"
      ],
      "execution_count": 0,
      "outputs": []
    },
    {
      "cell_type": "code",
      "metadata": {
        "id": "yzlqxNrXaSDX",
        "colab_type": "code",
        "colab": {}
      },
      "source": [
        "print(np.arange(0, 8, 0.5))"
      ],
      "execution_count": 0,
      "outputs": []
    },
    {
      "cell_type": "markdown",
      "metadata": {
        "colab_type": "text",
        "id": "ouxSb-QvHLKB"
      },
      "source": [
        "Но самое главное:"
      ]
    },
    {
      "cell_type": "code",
      "metadata": {
        "colab_type": "code",
        "id": "aaFIwlCqHLKC",
        "colab": {}
      },
      "source": [
        "%time np.arange(0, 50000000)\n",
        "%time list(range(0, 50000000))\n",
        "%time range(0, 50000000)"
      ],
      "execution_count": 0,
      "outputs": []
    },
    {
      "cell_type": "markdown",
      "metadata": {
        "id": "94th67WKaSDb",
        "colab_type": "text"
      },
      "source": [
        "**Вопрос на знание питона**: почему просто range занял 12 мкс, даже меньше, чем numpy?"
      ]
    },
    {
      "cell_type": "markdown",
      "metadata": {
        "colab_type": "text",
        "id": "r_i9uX70HLKF"
      },
      "source": [
        "* Еще один метод, похожий на arange это **linspace**. С его помощью можно создавать последовательности чисел с постоянным шагом. Начало и конец диапазона включаются; последний аргумент - число точек."
      ]
    },
    {
      "cell_type": "code",
      "metadata": {
        "colab_type": "code",
        "id": "1R3y2u7kHLKF",
        "colab": {}
      },
      "source": [
        "%time a = np.linspace(0, 8, 8)\n",
        "%time print(a)"
      ],
      "execution_count": 0,
      "outputs": []
    },
    {
      "cell_type": "markdown",
      "metadata": {
        "colab_type": "text",
        "id": "7pykEjWGHLKI"
      },
      "source": [
        "* **Быстродействие**. Массивы, разумеется, можно использовать в `for` циклах. Но при этом теряется главное преимущество `numpy` - быстродействие. Всегда, когда это возможно, лучше использовать операции, определенные в numpy."
      ]
    },
    {
      "cell_type": "code",
      "metadata": {
        "colab_type": "code",
        "id": "XOcvgxP8HLKI",
        "colab": {}
      },
      "source": [
        "%%time \n",
        "res = a + a"
      ],
      "execution_count": 0,
      "outputs": []
    },
    {
      "cell_type": "code",
      "metadata": {
        "colab_type": "code",
        "id": "33yWW6tzHLKK",
        "colab": {}
      },
      "source": [
        "%%time\n",
        "res = []\n",
        "for value in a:\n",
        "    res.append(value + value)"
      ],
      "execution_count": 0,
      "outputs": []
    },
    {
      "cell_type": "markdown",
      "metadata": {
        "id": "XWLsgd8uaSDj",
        "colab_type": "text"
      },
      "source": [
        "(в совсем простых операциях, таких как сложение двух чисел, питон не уступает в скорости C++ или C, а поэтому использование numpy не дает ввыигрыша, но в более тяжелых вычислениях разница становится колоссальнной)"
      ]
    },
    {
      "cell_type": "markdown",
      "metadata": {
        "colab_type": "text",
        "id": "rXe3ZDApHLL-"
      },
      "source": [
        "* Еще один способ создавать стандартные массивы - __`numpy.eye(N, M=None, ...)`__, __`numpy.zeros(shape, ...)`__, __`numpy.ones(shape, ...)`__.\n",
        "\n",
        "Первая функция создает единичную матрицу размера $N \\times M$; если $M$ не задан, то $M = N$. \n",
        "\n",
        "Вторая и третья функции создают матрицы, состоящие целиком из нулей или единиц соответственно. В качестве первого аргумента необходимо задать размерность массива — кортеж целых чисел. В двумерном случае это набор из двух чисел: количество строк и столбцов матрицы.\n",
        "\n",
        "__Примеры:__"
      ]
    },
    {
      "cell_type": "code",
      "metadata": {
        "colab_type": "code",
        "id": "2j4wk0IJHLL_",
        "colab": {}
      },
      "source": [
        "b = np.eye(5)\n",
        "print(\"Единичная матрица:\\n\", b)"
      ],
      "execution_count": 0,
      "outputs": []
    },
    {
      "cell_type": "code",
      "metadata": {
        "colab_type": "code",
        "id": "wskPIk0pHLME",
        "colab": {}
      },
      "source": [
        "c = np.ones((7, 5))\n",
        "print(\"Матрица, состоящая из одних единиц:\\n\", c)"
      ],
      "execution_count": 0,
      "outputs": []
    },
    {
      "cell_type": "markdown",
      "metadata": {
        "colab_type": "text",
        "id": "p_VsgozbHLMF"
      },
      "source": [
        "__Обратите внимание: размерность массива задается не двумя аргументами функции, а одним — кортежем!__ \n",
        "\n",
        "Вот так —  __`np.ones(7, 5)`__ — создать массив не получится, так как функции в качестве параметра `shape` передается `7`, а не кортеж `(7, 5)`."
      ]
    },
    {
      "cell_type": "markdown",
      "metadata": {
        "id": "_EWNyOMzBHWd",
        "colab_type": "text"
      },
      "source": [
        "**Задание на создание матриц:**\n",
        "> Создайте матрицу размера 4х5, у которой все элементы стоящие на диагонали равны -1, а все остальные равны 0.5"
      ]
    },
    {
      "cell_type": "code",
      "metadata": {
        "id": "lT-TsytjBGky",
        "colab_type": "code",
        "colab": {}
      },
      "source": [
        "<ваш код здесь>"
      ],
      "execution_count": 0,
      "outputs": []
    },
    {
      "cell_type": "markdown",
      "metadata": {
        "colab_type": "text",
        "id": "ULmaIAMTHLKP"
      },
      "source": [
        "# Slices, Fancy Indexing and stuff"
      ]
    },
    {
      "cell_type": "markdown",
      "metadata": {
        "id": "Aax0h2xWaSDp",
        "colab_type": "text"
      },
      "source": [
        "* Обращение по слайсам\n",
        "\n",
        "Так же как и для обычных листов, для numpy массивов доступно обращение по слайсам (a[2:5:2], 2:5:2 - слайс). Но есть одно отличие. В numpy можно писать несколько слайсов через запятую, чтобы сделать _срез_ сразу по нескольким осям - a[2:5, 1:4]. "
      ]
    },
    {
      "cell_type": "code",
      "metadata": {
        "id": "QwEvyLoNaSDq",
        "colab_type": "code",
        "colab": {}
      },
      "source": [
        "a = np.array([\n",
        "                [1, 2, 3, 4],\n",
        "                [5, 6, 7, 8],\n",
        "                [9, 10, 11, 12]\n",
        "             ])\n",
        "print(a)\n",
        "print(a[0:2, 1:3])"
      ],
      "execution_count": 0,
      "outputs": []
    },
    {
      "cell_type": "markdown",
      "metadata": {
        "colab_type": "text",
        "id": "KdzPmxUaHLL5"
      },
      "source": [
        "* Обращение по слайсам с добавлением новых осей. \n",
        "\n",
        "В NumPy к размерностям объектов можно добавлять фиктивные оси с помощью np.newaxis. Для того, чтобы понять, как это сделать, рассмотрим пример:"
      ]
    },
    {
      "cell_type": "code",
      "metadata": {
        "colab_type": "code",
        "id": "-hUON9TIHLL5",
        "colab": {}
      },
      "source": [
        "a = np.arange(1, 4, 1)\n",
        "print(a)\n",
        "print('Вектор a с newaxis --> вектор-строка:\\n', a[None, :])\n",
        "print('Полученная размерность:', a[np.newaxis, :].shape)"
      ],
      "execution_count": 0,
      "outputs": []
    },
    {
      "cell_type": "markdown",
      "metadata": {
        "id": "gqyenIEhaSDy",
        "colab_type": "text"
      },
      "source": [
        "* Обращение по индексам\n",
        "\n",
        "в numpy можно обращаться сразу к нескольким элементам массива, которые не идут подряд, передав в качестве аргумента list или numpy array индексов"
      ]
    },
    {
      "cell_type": "code",
      "metadata": {
        "id": "aN79z1QtaSDz",
        "colab_type": "code",
        "colab": {}
      },
      "source": [
        "a = np.array([0, 1, 2, 3])\n",
        "a[0], a[[0, 1, 1, 2]], a[np.array([0, 1, 1, 2])]"
      ],
      "execution_count": 0,
      "outputs": []
    },
    {
      "cell_type": "code",
      "metadata": {
        "id": "a9aN9JaLaSD1",
        "colab_type": "code",
        "colab": {}
      },
      "source": [
        "# многомерный случай\n",
        "z = np.array([[1,2], [3,4]])\n",
        "print(z)\n",
        "# можно передать лист с индексами для каждого из измерений. \n",
        "# В данном случае выберутся элементы с индексами (0, 0) и (1, 1). Результат - одномерный массив\n",
        "print(z[[0,1], [0,1]])"
      ],
      "execution_count": 0,
      "outputs": []
    },
    {
      "cell_type": "markdown",
      "metadata": {
        "id": "nb8G_LUdaSD3",
        "colab_type": "text"
      },
      "source": [
        "* Обращение по булевому массиву"
      ]
    },
    {
      "cell_type": "code",
      "metadata": {
        "colab_type": "code",
        "id": "VP7UZPrnHLKS",
        "colab": {}
      },
      "source": [
        "print(a)\n",
        "print(a[[True, False, True, True]])\n",
        "# Как мы уже выяснили, в результате сравнения numpy массивов получается булев массив, \n",
        "# его очень удобно использовать, чтобы обращаться к элементам, удовлетворяющим какому-то условию\n",
        "print(a[a > 1])"
      ],
      "execution_count": 0,
      "outputs": []
    },
    {
      "cell_type": "markdown",
      "metadata": {
        "colab_type": "text",
        "id": "SDRu54bhaSD5"
      },
      "source": [
        "В NumPy к размерностям объектов можно добавлять фиктивные оси с помощью np.newaxis. Для того, чтобы понять, как это сделать, рассмотрим пример:"
      ]
    },
    {
      "cell_type": "markdown",
      "metadata": {
        "id": "sl_dxkHfaSEB",
        "colab_type": "text"
      },
      "source": [
        "* Присвоение значений во view\n",
        "\n",
        "Когда мы используем слайсы для выборки каких-то элементов массива, нам возвращается не новый массив с этими элементами, а просто объект view, который ссылается на какие-то ячейки в реальном массиве. Поэтому мы можем сделать так:"
      ]
    },
    {
      "cell_type": "code",
      "metadata": {
        "id": "b_Li8FGLaSEB",
        "colab_type": "code",
        "colab": {}
      },
      "source": [
        "a = np.array([1, 2, 3])\n",
        "b = a[0:2]\n",
        "print(b)\n",
        "b[0] = 100\n",
        "print(b)\n",
        "print(a)"
      ],
      "execution_count": 0,
      "outputs": []
    },
    {
      "cell_type": "markdown",
      "metadata": {
        "id": "PfdoN87ZaSED",
        "colab_type": "text"
      },
      "source": [
        "Изменив элемент во view b, мы поменяли элемент и в массиве а. Если же обратиться по списку координат или булевому массиву, так не получится"
      ]
    },
    {
      "cell_type": "code",
      "metadata": {
        "id": "brYHL8v4aSED",
        "colab_type": "code",
        "colab": {}
      },
      "source": [
        "a = np.array([1, 2, 3])\n",
        "b = a[[0, 1]]\n",
        "print(b)\n",
        "b[0] = 100\n",
        "print(b)\n",
        "print(a)"
      ],
      "execution_count": 0,
      "outputs": []
    },
    {
      "cell_type": "code",
      "metadata": {
        "id": "x-PVgDYAaSEF",
        "colab_type": "code",
        "colab": {}
      },
      "source": [
        "a = np.array([1, 2, 3])\n",
        "b = a[[True, True, False]]\n",
        "print(b)\n",
        "b[0] = 100\n",
        "print(b)\n",
        "print(a)"
      ],
      "execution_count": 0,
      "outputs": []
    },
    {
      "cell_type": "markdown",
      "metadata": {
        "id": "TR5bSBAsaSEH",
        "colab_type": "text"
      },
      "source": [
        "Означает ли это, что не сработают выражения вида:\n",
        "> a[[0, 1]] = 100\n",
        "\n",
        "> a[[True, True, False]] = 100\n",
        "\n",
        "Присваивания сработают, потому что в данном случае копия массива создаваться не будет, вместо этого вызовется магический метод питона \\_\\_setitem\\_\\_. Очень удобная особенность питона, про которую не стоит забывать."
      ]
    },
    {
      "cell_type": "code",
      "metadata": {
        "id": "dqLwgnxYaSEH",
        "colab_type": "code",
        "colab": {}
      },
      "source": [
        "a = np.array([1, 2, 3])\n",
        "a[[True, True, False]] = 100\n",
        "print(a)"
      ],
      "execution_count": 0,
      "outputs": []
    },
    {
      "cell_type": "markdown",
      "metadata": {
        "id": "4px-96mmaSEK",
        "colab_type": "text"
      },
      "source": [
        "Если же слева будет не просто обращение по индексу, а двойное обращение по индексу, то питону придется вычислить значение \n",
        "> a[[True, True, False]]\n",
        "\n",
        "тем самым создав копию, и только потом взять у него нулевой элемент. Поэтому 0 присвоится в массив-копию, который тут же уничтожится."
      ]
    },
    {
      "cell_type": "code",
      "metadata": {
        "id": "HUryf9tWaSEL",
        "colab_type": "code",
        "colab": {}
      },
      "source": [
        "a = np.array([1, 2, 3])\n",
        "a[[True, True, False]][0] = 100\n",
        "print(a)"
      ],
      "execution_count": 0,
      "outputs": []
    },
    {
      "cell_type": "markdown",
      "metadata": {
        "id": "qPgkWQN2CMOf",
        "colab_type": "text"
      },
      "source": [
        "**Задание на slicing:**\n",
        "> Создайте матрицу 4х4, у которой элементы i=4-j равны 1, а остальные - нулю"
      ]
    },
    {
      "cell_type": "code",
      "metadata": {
        "id": "1v0h7fi6CcN2",
        "colab_type": "code",
        "colab": {}
      },
      "source": [
        "<ваш код здесь>"
      ],
      "execution_count": 0,
      "outputs": []
    },
    {
      "cell_type": "markdown",
      "metadata": {
        "id": "AM3HRmx5aSEM",
        "colab_type": "text"
      },
      "source": [
        "# Линейная Алгебра\n",
        "\n",
        "До этого мы рассматривали разные операции numpy, которые не связаны напрямую с линейной алгеброй. Пришло время это изменить)"
      ]
    },
    {
      "cell_type": "markdown",
      "metadata": {
        "colab_type": "text",
        "id": "WfqfXImaHLKg"
      },
      "source": [
        "* Скалярное произведение \n",
        "$a~\\cdot~b = (a_1, a_2, .., a_n) \\cdot (b_1, b_2, .., b_n) = a_1b_1 + a_2b_2 + .. + b_nb_n = \\sum_{i=1}^{n} a_ib_i$:\n"
      ]
    },
    {
      "cell_type": "code",
      "metadata": {
        "colab_type": "code",
        "id": "47c57Q62EQmw",
        "colab": {}
      },
      "source": [
        "a = np.array([1, 2, 3])\n",
        "b = np.array([2, 3, 4])\n",
        "print(a,b)"
      ],
      "execution_count": 0,
      "outputs": []
    },
    {
      "cell_type": "code",
      "metadata": {
        "id": "zae5Ebopvf5t",
        "colab_type": "code",
        "colab": {}
      },
      "source": [
        "a @ b"
      ],
      "execution_count": 0,
      "outputs": []
    },
    {
      "cell_type": "code",
      "metadata": {
        "colab_type": "code",
        "id": "YXx9wDsyHLKi",
        "colab": {}
      },
      "source": [
        "print(np.matmul(a, b))"
      ],
      "execution_count": 0,
      "outputs": []
    },
    {
      "cell_type": "code",
      "metadata": {
        "colab_type": "code",
        "id": "JY03g_bEHLLe",
        "colab": {}
      },
      "source": [
        "* Векторы и матрицы"
      ],
      "execution_count": 0,
      "outputs": []
    },
    {
      "cell_type": "code",
      "metadata": {
        "id": "HKDz1cB9aSEU",
        "colab_type": "code",
        "colab": {}
      },
      "source": [
        "b = np.array([\n",
        "    [1, 2, 3],\n",
        "    [4, 5, 6]\n",
        "])"
      ],
      "execution_count": 0,
      "outputs": []
    },
    {
      "cell_type": "markdown",
      "metadata": {
        "colab_type": "text",
        "id": "FFiel6s3HLLp"
      },
      "source": [
        "Наш 2-мерный массив __b__, также его можно назвать матрицей, имеет 2 строки и 3 столбца.\n",
        "То есть наша матрица состоит из 2 вектор-строк:"
      ]
    },
    {
      "cell_type": "code",
      "metadata": {
        "colab_type": "code",
        "id": "LxQ6e7GCHLLq",
        "colab": {}
      },
      "source": [
        "print(b)\n",
        "b[0:2,0:1]"
      ],
      "execution_count": 0,
      "outputs": []
    },
    {
      "cell_type": "code",
      "metadata": {
        "colab_type": "code",
        "id": "q1V4QuJvHLLs",
        "colab": {}
      },
      "source": [
        "b[1:2]"
      ],
      "execution_count": 0,
      "outputs": []
    },
    {
      "cell_type": "markdown",
      "metadata": {
        "colab_type": "text",
        "id": "UX0T5yRzHLLv"
      },
      "source": [
        "Обычно в линейной алгебре под любым вектором подразумевается вектор-столбец. Наша матрица содержит 3 вектор-стобца:"
      ]
    },
    {
      "cell_type": "code",
      "metadata": {
        "colab_type": "code",
        "id": "0kWqkkhmHLLv",
        "colab": {}
      },
      "source": [
        "b[:, 0:1]"
      ],
      "execution_count": 0,
      "outputs": []
    },
    {
      "cell_type": "code",
      "metadata": {
        "colab_type": "code",
        "id": "CxUwuDqUHLLx",
        "colab": {}
      },
      "source": [
        "b[:, 1:2]"
      ],
      "execution_count": 0,
      "outputs": []
    },
    {
      "cell_type": "code",
      "metadata": {
        "colab_type": "code",
        "id": "ulY47VBJHLL1",
        "colab": {}
      },
      "source": [
        "b[:, 2:3]"
      ],
      "execution_count": 0,
      "outputs": []
    },
    {
      "cell_type": "code",
      "metadata": {
        "id": "yoGzfSxbvbdJ",
        "colab_type": "code",
        "colab": {}
      },
      "source": [
        "a @ b"
      ],
      "execution_count": 0,
      "outputs": []
    },
    {
      "cell_type": "markdown",
      "metadata": {
        "colab_type": "text",
        "id": "j5YLEr1YHLMe"
      },
      "source": [
        "## Операции с матрицами"
      ]
    },
    {
      "cell_type": "code",
      "metadata": {
        "colab_type": "code",
        "id": "LuHvQIYYHLMe",
        "colab": {}
      },
      "source": [
        "A = np.array([[1, 0], [0, 1]])\n",
        "B = np.array([[4, 1], [2, 2]])"
      ],
      "execution_count": 0,
      "outputs": []
    },
    {
      "cell_type": "markdown",
      "metadata": {
        "colab_type": "text",
        "id": "Y7CJCuL5HLMl"
      },
      "source": [
        "__Напоминание теории.__ __Транспонированной матрицей__ $A^{T}$ называется матрица, полученная из исходной матрицы $A$ заменой строк на столбцы. Формально: элементы матрицы $A^{T}$ определяются как $a^{T}_{ij} = a_{ji}$, где $a^{T}_{ij}$ — элемент матрицы $A^{T}$, стоящий на пересечении строки с номером $i$ и столбца с номером $j$.\n",
        "\n",
        "В `NumPy` транспонированная матрица вычисляется с помощью функции __`numpy.transpose()`__ или с помощью _метода_ __`array.T`__, где __`array`__ — нужный двумерный массив."
      ]
    },
    {
      "cell_type": "code",
      "metadata": {
        "colab_type": "code",
        "id": "Q6G6FzQ3HLMl",
        "colab": {}
      },
      "source": [
        "a = np.array([[1, 2], [3, 4]])\n",
        "b = np.transpose(a)\n",
        "c = a.T"
      ],
      "execution_count": 0,
      "outputs": []
    },
    {
      "cell_type": "code",
      "metadata": {
        "colab_type": "code",
        "id": "_dBqecA2HLMn",
        "colab": {}
      },
      "source": [
        "print(\"Матрица:\\n\", a)\n",
        "print(\"Транспонирование функцией:\\n\", b)\n",
        "print(\"Транспонирование методом:\\n\",  c)"
      ],
      "execution_count": 0,
      "outputs": []
    },
    {
      "cell_type": "code",
      "metadata": {
        "id": "xRH5WThdwJ_m",
        "colab_type": "code",
        "colab": {}
      },
      "source": [
        "a @ b"
      ],
      "execution_count": 0,
      "outputs": []
    },
    {
      "cell_type": "markdown",
      "metadata": {
        "colab_type": "text",
        "id": "gPABHln8HLMp"
      },
      "source": [
        "__Напоминание теории.__ Операция __умножения__ определена для двух матриц, таких что число столбцов первой равно числу строк второй. \n",
        "\n",
        "Пусть матрицы $A$ и $B$ таковы, что $A \\in \\mathbb{R}^{n \\times k}$ и $B \\in \\mathbb{R}^{k \\times m}$. __Произведением__ матриц $A$ и $B$ называется матрица $C$, такая что $c_{ij} = \\sum_{r=1}^{k} a_{ir}b_{rj}$, где $c_{ij}$ — элемент матрицы $C$, стоящий на пересечении строки с номером $i$ и столбца с номером $j$.\n",
        "\n",
        "В `NumPy` произведение матриц вычисляется с помощью функции __`numpy.dot(a, b, ...)`__ или с помощью _метода_ __`array1.dot(array2)`__, где __`array1`__ и __`array2`__ — перемножаемые матрицы."
      ]
    },
    {
      "cell_type": "code",
      "metadata": {
        "colab_type": "code",
        "id": "nvmP9mmLHLMq",
        "colab": {}
      },
      "source": [
        "y = np.array([1, 0])\n",
        "z = np.dot(A, y)"
      ],
      "execution_count": 0,
      "outputs": []
    },
    {
      "cell_type": "code",
      "metadata": {
        "colab_type": "code",
        "id": "YIsxb9UdK06n",
        "colab": {}
      },
      "source": [
        "y = np.linalg.solve(A, z)\n",
        "print(y)"
      ],
      "execution_count": 0,
      "outputs": []
    },
    {
      "cell_type": "markdown",
      "metadata": {
        "colab_type": "text",
        "id": "4t6WW1poHLMs"
      },
      "source": [
        "#### Линейная алгебра (модуль `np.linalg`)zxxz"
      ]
    },
    {
      "cell_type": "code",
      "metadata": {
        "colab_type": "code",
        "id": "UyCMO5DvHLMt",
        "colab": {}
      },
      "source": [
        "A = np.array([[1, 0], [1, 0]])\n",
        "x = np.array([[4, 1], [2, 2]])\n",
        "b = np.dot(A, x)\n",
        "print(b)"
      ],
      "execution_count": 0,
      "outputs": []
    },
    {
      "cell_type": "markdown",
      "metadata": {
        "colab_type": "text",
        "id": "Fse23NT-HLMu"
      },
      "source": [
        "* Решение линейной системы __$Ax=b$__:"
      ]
    },
    {
      "cell_type": "code",
      "metadata": {
        "colab_type": "code",
        "id": "zzseRnnjHLMv",
        "colab": {}
      },
      "source": [
        "x = np.linalg.solve(A, b)\n",
        "print(x)"
      ],
      "execution_count": 0,
      "outputs": []
    },
    {
      "cell_type": "markdown",
      "metadata": {
        "colab_type": "text",
        "id": "GV6WaYJ3K06x"
      },
      "source": [
        "### Библиотека SciPy"
      ]
    },
    {
      "cell_type": "markdown",
      "metadata": {
        "colab_type": "text",
        "id": "rfbdWyb7K06x"
      },
      "source": [
        "* Оптимизация функции (нахождение минимума/максимума):"
      ]
    },
    {
      "cell_type": "code",
      "metadata": {
        "colab_type": "code",
        "id": "8UhGZKOEK06y",
        "colab": {}
      },
      "source": [
        "from scipy.optimize import minimize"
      ],
      "execution_count": 0,
      "outputs": []
    },
    {
      "cell_type": "markdown",
      "metadata": {
        "colab_type": "text",
        "id": "9adfxLQHK06y"
      },
      "source": [
        "Обязательно посмотрите документацию, сходу не очевидно, как именно использовать:"
      ]
    },
    {
      "cell_type": "code",
      "metadata": {
        "colab_type": "code",
        "id": "_vpG937gK06y",
        "colab": {}
      },
      "source": [
        "?minimize"
      ],
      "execution_count": 0,
      "outputs": []
    },
    {
      "cell_type": "markdown",
      "metadata": {
        "colab_type": "text",
        "id": "tOHJi6hZK06z"
      },
      "source": [
        "Опмтимизируем (минимизируем) простую функцию:"
      ]
    },
    {
      "cell_type": "code",
      "metadata": {
        "colab_type": "code",
        "id": "7cyblRsMK06z",
        "colab": {}
      },
      "source": [
        "def f(x):\n",
        "    return x ** 2"
      ],
      "execution_count": 0,
      "outputs": []
    },
    {
      "cell_type": "code",
      "metadata": {
        "colab_type": "code",
        "id": "jg1vmj6oyRhB",
        "colab": {}
      },
      "source": [
        "%matplotlib inline\n",
        "import matplotlib.pyplot as plt\n",
        "\n",
        "x = np.arange(-3, 3, .1)\n",
        "y = f(x)\n",
        "\n",
        "plt.plot(x,y)\n",
        "# plt.show()"
      ],
      "execution_count": 0,
      "outputs": []
    },
    {
      "cell_type": "code",
      "metadata": {
        "colab_type": "code",
        "id": "8AQZT2IDK060",
        "colab": {}
      },
      "source": [
        "res = minimize(f, x0=100)"
      ],
      "execution_count": 0,
      "outputs": []
    },
    {
      "cell_type": "code",
      "metadata": {
        "colab_type": "code",
        "id": "u5-yXZoDK060",
        "colab": {}
      },
      "source": [
        "res"
      ],
      "execution_count": 0,
      "outputs": []
    },
    {
      "cell_type": "markdown",
      "metadata": {
        "colab_type": "text",
        "id": "JPQkniL8K061"
      },
      "source": [
        "Тут нужно смотреть на 4 строчки: `fun, message, success и x`  \n",
        "`fun` - значние функции в точке минимума  \n",
        "`message` - служебное сообщение об окончании процесса (может быть \"успешно\", как здесь, или сообщение о том, что что-то пошло не так (\"не сошлось\"))  \n",
        "`success` - True, если успешно сошлось (но лучше всегда всё же смотреть и `message`)  \n",
        "`x` - точка, в которой достигается минимум"
      ]
    },
    {
      "cell_type": "markdown",
      "metadata": {
        "colab_type": "text",
        "id": "JutOzQrlK062"
      },
      "source": [
        "Можно в аргумент `method` подавать разные ключевые слова для смены метода оптимизации, подробнее о них лучше читать документацию или погуглить."
      ]
    },
    {
      "cell_type": "markdown",
      "metadata": {
        "colab_type": "text",
        "id": "eNfjwNPcK062"
      },
      "source": [
        "* Интегрирование:"
      ]
    },
    {
      "cell_type": "code",
      "metadata": {
        "colab_type": "code",
        "id": "v07dtKwdK062",
        "colab": {}
      },
      "source": [
        "from scipy.integrate import quad, odeint\n",
        "from scipy.special import erf"
      ],
      "execution_count": 0,
      "outputs": []
    },
    {
      "cell_type": "code",
      "metadata": {
        "colab_type": "code",
        "id": "5JAJF-RHK063",
        "colab": {}
      },
      "source": [
        "def f(x):\n",
        "    return np.exp(-x ** 2)"
      ],
      "execution_count": 0,
      "outputs": []
    },
    {
      "cell_type": "code",
      "metadata": {
        "colab_type": "code",
        "id": "VpncsF4KylNB",
        "colab": {}
      },
      "source": [
        "%matplotlib inline\n",
        "import matplotlib.pyplot as plt\n",
        "\n",
        "x = np.arange(-3, 3, .1)\n",
        "y = f(x)\n",
        "\n",
        "plt.plot(x,y)\n",
        "plt.show()"
      ],
      "execution_count": 0,
      "outputs": []
    },
    {
      "cell_type": "markdown",
      "metadata": {
        "colab_type": "text",
        "id": "EI4PK884K063"
      },
      "source": [
        "Адаптивное численное интегрирование (может быть до бесконечности). `err` - оценка ошибки."
      ]
    },
    {
      "cell_type": "code",
      "metadata": {
        "colab_type": "code",
        "id": "rMrrAR8EK063",
        "colab": {}
      },
      "source": [
        "res, err = quad(f, 0, np.inf)\n",
        "print(np.sqrt(np.pi) / 2, res, err)"
      ],
      "execution_count": 0,
      "outputs": []
    },
    {
      "cell_type": "code",
      "metadata": {
        "colab_type": "code",
        "id": "nUGcUPBBK064",
        "colab": {}
      },
      "source": [
        "res, err = quad(f, 0, 1)\n",
        "print(np.sqrt(np.pi) / 2 * erf(1), res, err)"
      ],
      "execution_count": 0,
      "outputs": []
    },
    {
      "cell_type": "markdown",
      "metadata": {
        "id": "7gHqPZZHRV2f",
        "colab_type": "text"
      },
      "source": [
        "## Поиграем с изображением\n",
        "Изображение - это тензор. Загрузим картинку из сети."
      ]
    },
    {
      "cell_type": "code",
      "metadata": {
        "id": "IQqrKhgjaSFD",
        "colab_type": "code",
        "colab": {}
      },
      "source": [
        "from PIL import Image\n",
        "import requests\n",
        "from io import BytesIO\n",
        "\n",
        "url = 'https://s8.hostingkartinok.com/uploads/images/2018/08/308b49fcfbc619d629fe4604bceb67ac.jpg'\n",
        "\n",
        "response = requests.get(url)\n",
        "img = Image.open(BytesIO(response.content))"
      ],
      "execution_count": 0,
      "outputs": []
    },
    {
      "cell_type": "markdown",
      "metadata": {
        "id": "-j48ouBxRsbJ",
        "colab_type": "text"
      },
      "source": [
        "Код выше был скопирован с гугла и не представляет для нас большого интереса. Главное - получить изображение в формате numpy:"
      ]
    },
    {
      "cell_type": "code",
      "metadata": {
        "id": "gNvRYxevHy3N",
        "colab_type": "code",
        "colab": {}
      },
      "source": [
        "img = np.array(img)\n",
        "img.shape"
      ],
      "execution_count": 0,
      "outputs": []
    },
    {
      "cell_type": "code",
      "metadata": {
        "id": "dwDVnMM5GoUl",
        "colab_type": "code",
        "colab": {}
      },
      "source": [
        "from matplotlib import pyplot as plt\n",
        "plt.imshow(img)"
      ],
      "execution_count": 0,
      "outputs": []
    },
    {
      "cell_type": "code",
      "metadata": {
        "id": "dBD8QGRpGsQE",
        "colab_type": "code",
        "colab": {}
      },
      "source": [
        "img2 = img[:, :, ::-1]\n",
        "plt.imshow(img2)"
      ],
      "execution_count": 0,
      "outputs": []
    },
    {
      "cell_type": "code",
      "metadata": {
        "id": "Tj1XJf5KH3y0",
        "colab_type": "code",
        "colab": {}
      },
      "source": [
        "img3 = img[:, ::-1]\n",
        "plt.imshow(img3)"
      ],
      "execution_count": 0,
      "outputs": []
    },
    {
      "cell_type": "code",
      "metadata": {
        "id": "vRga1T60H7cg",
        "colab_type": "code",
        "colab": {}
      },
      "source": [
        "batch = np.concatenate([img[None, :, :, :], img2[None, :, :, :], img3[None, :, :, :]])\n",
        "batch.shape"
      ],
      "execution_count": 0,
      "outputs": []
    },
    {
      "cell_type": "code",
      "metadata": {
        "id": "0HSbP-ZwIEoS",
        "colab_type": "code",
        "colab": {}
      },
      "source": [
        "img4 = img.sum(axis=2)\n",
        "plt.imshow(img4, cmap=plt.cm.gray)"
      ],
      "execution_count": 0,
      "outputs": []
    },
    {
      "cell_type": "markdown",
      "metadata": {
        "colab_type": "text",
        "id": "JqUN04vPK065"
      },
      "source": [
        "## Список материалов для самостоятельного изучения"
      ]
    },
    {
      "cell_type": "markdown",
      "metadata": {
        "colab_type": "text",
        "id": "a6m68ZUgK065"
      },
      "source": [
        "*Статья на Хабре по основам NumPy - https://habr.com/post/121031/*  \n",
        "\n",
        "*100 задач по NumPy для любителей посидеть вечерком за чашечкой программирования* - https://pythonworld.ru/numpy/100-exercises.html  \n",
        "\n",
        "*Очень крутой, продвинутый ноутбук по NumPy* - https://nbviewer.jupyter.org/github/vlad17/np-learn/blob/master/presentation.ipynb\n",
        "\n",
        "*Штука, которая вам в будущем может пригодиться ;)* - https://stackoverflow.com/questions/27948363/numpy-broadcast-to-perform-euclidean-distance-vectorized/35814006  \n",
        "\n",
        "*Лекции по SciPy и NumPy* - http://www.scipy-lectures.org/index.html"
      ]
    }
  ]
}